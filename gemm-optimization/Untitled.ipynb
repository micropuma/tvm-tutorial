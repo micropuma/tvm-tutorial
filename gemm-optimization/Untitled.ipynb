{
 "cells": [
  {
   "cell_type": "code",
   "execution_count": 3,
   "id": "d1752c0c-5c28-4d5e-910c-8fab777bfb5c",
   "metadata": {},
   "outputs": [
    {
     "name": "stdout",
     "output_type": "stream",
     "text": [
      "/home/douliyang/local/HWLOC/lib:/home/douliyang/local/TBB/lib:/home/douliyang/local/boost/lib:/home/douliyang/local/HWLOC/lib:/home/douliyang/local/TBB/lib:/home/douliyang/local/boost/lib::/usr/local/cuda/lib64\n"
     ]
    }
   ],
   "source": [
    "import os\n",
    "print(os.environ.get('LD_LIBRARY_PATH'))"
   ]
  },
  {
   "cell_type": "code",
   "execution_count": 5,
   "id": "62c585cc-95ae-45ae-9de3-2e2cc8571ee4",
   "metadata": {},
   "outputs": [
    {
     "ename": "OSError",
     "evalue": "/opt/anaconda3/bin/../lib/libstdc++.so.6: version `GLIBCXX_3.4.30' not found (required by /mnt/home/douliyang/tvm-workspace/tvm-dly/build/libtvm.so)",
     "output_type": "error",
     "traceback": [
      "\u001b[0;31m---------------------------------------------------------------------------\u001b[0m",
      "\u001b[0;31mOSError\u001b[0m                                   Traceback (most recent call last)",
      "Cell \u001b[0;32mIn[5], line 1\u001b[0m\n\u001b[0;32m----> 1\u001b[0m \u001b[38;5;28;01mimport\u001b[39;00m \u001b[38;5;21;01mtvm\u001b[39;00m \n",
      "File \u001b[0;32m~/large/tvm-workspace/tvm-dly/python/tvm/__init__.py:26\u001b[0m\n\u001b[1;32m     22\u001b[0m \u001b[38;5;28;01mimport\u001b[39;00m \u001b[38;5;21;01mtraceback\u001b[39;00m\n\u001b[1;32m     24\u001b[0m \u001b[38;5;66;03m# top-level alias\u001b[39;00m\n\u001b[1;32m     25\u001b[0m \u001b[38;5;66;03m# tvm._ffi\u001b[39;00m\n\u001b[0;32m---> 26\u001b[0m \u001b[38;5;28;01mfrom\u001b[39;00m \u001b[38;5;21;01m.\u001b[39;00m\u001b[38;5;21;01m_ffi\u001b[39;00m\u001b[38;5;21;01m.\u001b[39;00m\u001b[38;5;21;01mbase\u001b[39;00m \u001b[38;5;28;01mimport\u001b[39;00m TVMError, __version__, _RUNTIME_ONLY\n\u001b[1;32m     28\u001b[0m \u001b[38;5;28;01mfrom\u001b[39;00m \u001b[38;5;21;01m.\u001b[39;00m\u001b[38;5;21;01m_ffi\u001b[39;00m\u001b[38;5;21;01m.\u001b[39;00m\u001b[38;5;21;01mruntime_ctypes\u001b[39;00m \u001b[38;5;28;01mimport\u001b[39;00m DataTypeCode, DataType\n\u001b[1;32m     29\u001b[0m \u001b[38;5;28;01mfrom\u001b[39;00m \u001b[38;5;21;01m.\u001b[39;00m\u001b[38;5;21;01m_ffi\u001b[39;00m \u001b[38;5;28;01mimport\u001b[39;00m register_object, register_func, register_extension, get_global_func\n",
      "File \u001b[0;32m~/large/tvm-workspace/tvm-dly/python/tvm/_ffi/__init__.py:28\u001b[0m\n\u001b[1;32m     17\u001b[0m \u001b[38;5;124;03m\"\"\"C interfacing code.\u001b[39;00m\n\u001b[1;32m     18\u001b[0m \n\u001b[1;32m     19\u001b[0m \u001b[38;5;124;03mThis namespace contains everything that interacts with C code.\u001b[39;00m\n\u001b[0;32m   (...)\u001b[0m\n\u001b[1;32m     25\u001b[0m \u001b[38;5;124;03mand have a ctypes fallback implementation.\u001b[39;00m\n\u001b[1;32m     26\u001b[0m \u001b[38;5;124;03m\"\"\"\u001b[39;00m\n\u001b[1;32m     27\u001b[0m \u001b[38;5;28;01mfrom\u001b[39;00m \u001b[38;5;21;01m.\u001b[39;00m \u001b[38;5;28;01mimport\u001b[39;00m _pyversion\n\u001b[0;32m---> 28\u001b[0m \u001b[38;5;28;01mfrom\u001b[39;00m \u001b[38;5;21;01m.\u001b[39;00m\u001b[38;5;21;01mbase\u001b[39;00m \u001b[38;5;28;01mimport\u001b[39;00m register_error\n\u001b[1;32m     29\u001b[0m \u001b[38;5;28;01mfrom\u001b[39;00m \u001b[38;5;21;01m.\u001b[39;00m\u001b[38;5;21;01mregistry\u001b[39;00m \u001b[38;5;28;01mimport\u001b[39;00m register_object, register_func, register_extension\n\u001b[1;32m     30\u001b[0m \u001b[38;5;28;01mfrom\u001b[39;00m \u001b[38;5;21;01m.\u001b[39;00m\u001b[38;5;21;01mregistry\u001b[39;00m \u001b[38;5;28;01mimport\u001b[39;00m _init_api, get_global_func, get_object_type_index\n",
      "File \u001b[0;32m~/large/tvm-workspace/tvm-dly/python/tvm/_ffi/base.py:78\u001b[0m\n\u001b[1;32m     76\u001b[0m __version__ \u001b[38;5;241m=\u001b[39m libinfo\u001b[38;5;241m.\u001b[39m__version__\n\u001b[1;32m     77\u001b[0m \u001b[38;5;66;03m# library instance\u001b[39;00m\n\u001b[0;32m---> 78\u001b[0m _LIB, _LIB_NAME \u001b[38;5;241m=\u001b[39m \u001b[43m_load_lib\u001b[49m\u001b[43m(\u001b[49m\u001b[43m)\u001b[49m\n\u001b[1;32m     80\u001b[0m \u001b[38;5;66;03m# Whether we are runtime only\u001b[39;00m\n\u001b[1;32m     81\u001b[0m _RUNTIME_ONLY \u001b[38;5;241m=\u001b[39m \u001b[38;5;124m\"\u001b[39m\u001b[38;5;124mruntime\u001b[39m\u001b[38;5;124m\"\u001b[39m \u001b[38;5;129;01min\u001b[39;00m _LIB_NAME\n",
      "File \u001b[0;32m~/large/tvm-workspace/tvm-dly/python/tvm/_ffi/base.py:64\u001b[0m, in \u001b[0;36m_load_lib\u001b[0;34m()\u001b[0m\n\u001b[1;32m     62\u001b[0m     \u001b[38;5;28;01mfor\u001b[39;00m path \u001b[38;5;129;01min\u001b[39;00m libinfo\u001b[38;5;241m.\u001b[39mget_dll_directories():\n\u001b[1;32m     63\u001b[0m         os\u001b[38;5;241m.\u001b[39madd_dll_directory(path)\n\u001b[0;32m---> 64\u001b[0m lib \u001b[38;5;241m=\u001b[39m \u001b[43mctypes\u001b[49m\u001b[38;5;241;43m.\u001b[39;49m\u001b[43mCDLL\u001b[49m\u001b[43m(\u001b[49m\u001b[43mlib_path\u001b[49m\u001b[43m[\u001b[49m\u001b[38;5;241;43m0\u001b[39;49m\u001b[43m]\u001b[49m\u001b[43m,\u001b[49m\u001b[43m \u001b[49m\u001b[43mctypes\u001b[49m\u001b[38;5;241;43m.\u001b[39;49m\u001b[43mRTLD_GLOBAL\u001b[49m\u001b[43m)\u001b[49m\n\u001b[1;32m     65\u001b[0m lib\u001b[38;5;241m.\u001b[39mTVMGetLastError\u001b[38;5;241m.\u001b[39mrestype \u001b[38;5;241m=\u001b[39m ctypes\u001b[38;5;241m.\u001b[39mc_char_p\n\u001b[1;32m     66\u001b[0m \u001b[38;5;28;01mreturn\u001b[39;00m lib, os\u001b[38;5;241m.\u001b[39mpath\u001b[38;5;241m.\u001b[39mbasename(lib_path[\u001b[38;5;241m0\u001b[39m])\n",
      "File \u001b[0;32m/opt/anaconda3/lib/python3.11/ctypes/__init__.py:376\u001b[0m, in \u001b[0;36mCDLL.__init__\u001b[0;34m(self, name, mode, handle, use_errno, use_last_error, winmode)\u001b[0m\n\u001b[1;32m    373\u001b[0m \u001b[38;5;28mself\u001b[39m\u001b[38;5;241m.\u001b[39m_FuncPtr \u001b[38;5;241m=\u001b[39m _FuncPtr\n\u001b[1;32m    375\u001b[0m \u001b[38;5;28;01mif\u001b[39;00m handle \u001b[38;5;129;01mis\u001b[39;00m \u001b[38;5;28;01mNone\u001b[39;00m:\n\u001b[0;32m--> 376\u001b[0m     \u001b[38;5;28mself\u001b[39m\u001b[38;5;241m.\u001b[39m_handle \u001b[38;5;241m=\u001b[39m \u001b[43m_dlopen\u001b[49m\u001b[43m(\u001b[49m\u001b[38;5;28;43mself\u001b[39;49m\u001b[38;5;241;43m.\u001b[39;49m\u001b[43m_name\u001b[49m\u001b[43m,\u001b[49m\u001b[43m \u001b[49m\u001b[43mmode\u001b[49m\u001b[43m)\u001b[49m\n\u001b[1;32m    377\u001b[0m \u001b[38;5;28;01melse\u001b[39;00m:\n\u001b[1;32m    378\u001b[0m     \u001b[38;5;28mself\u001b[39m\u001b[38;5;241m.\u001b[39m_handle \u001b[38;5;241m=\u001b[39m handle\n",
      "\u001b[0;31mOSError\u001b[0m: /opt/anaconda3/bin/../lib/libstdc++.so.6: version `GLIBCXX_3.4.30' not found (required by /mnt/home/douliyang/tvm-workspace/tvm-dly/build/libtvm.so)"
     ]
    }
   ],
   "source": [
    "import tvm "
   ]
  },
  {
   "cell_type": "code",
   "execution_count": null,
   "id": "9689eaa4-55e3-47ff-9347-a76a78f81375",
   "metadata": {},
   "outputs": [
    {
     "name": "stdout",
     "output_type": "stream",
     "text": [
      "Channels:\n",
      " - defaults\n",
      " - https://repo.anaconda.com/pkgs/main\n",
      "Platform: linux-64\n",
      "Collecting package metadata (repodata.json): \\ "
     ]
    }
   ],
   "source": [
    "!conda install libgcc"
   ]
  },
  {
   "cell_type": "code",
   "execution_count": 7,
   "id": "e8660ced-d599-45d8-8e05-3f10badf800d",
   "metadata": {},
   "outputs": [
    {
     "name": "stdout",
     "output_type": "stream",
     "text": [
      "GLIBCXX_3.4\n",
      "GLIBCXX_3.4.1\n",
      "GLIBCXX_3.4.2\n",
      "GLIBCXX_3.4.3\n",
      "GLIBCXX_3.4.4\n",
      "GLIBCXX_3.4.5\n",
      "GLIBCXX_3.4.6\n",
      "GLIBCXX_3.4.7\n",
      "GLIBCXX_3.4.8\n",
      "GLIBCXX_3.4.9\n",
      "GLIBCXX_3.4.10\n",
      "GLIBCXX_3.4.11\n",
      "GLIBCXX_3.4.12\n",
      "GLIBCXX_3.4.13\n",
      "GLIBCXX_3.4.14\n",
      "GLIBCXX_3.4.15\n",
      "GLIBCXX_3.4.16\n",
      "GLIBCXX_3.4.17\n",
      "GLIBCXX_3.4.18\n",
      "GLIBCXX_3.4.19\n",
      "GLIBCXX_3.4.20\n",
      "GLIBCXX_3.4.21\n",
      "GLIBCXX_3.4.22\n",
      "GLIBCXX_3.4.23\n",
      "GLIBCXX_3.4.24\n",
      "GLIBCXX_3.4.25\n",
      "GLIBCXX_3.4.26\n",
      "GLIBCXX_3.4.27\n",
      "GLIBCXX_3.4.28\n",
      "GLIBCXX_3.4.29\n",
      "GLIBCXX_DEBUG_MESSAGE_LENGTH\n",
      "_ZNKSt14basic_ifstreamIcSt11char_traitsIcEE7is_openEv@GLIBCXX_3.4\n",
      "_ZNSt13basic_istreamIwSt11char_traitsIwEE6ignoreEv@@GLIBCXX_3.4.5\n",
      "_ZNKSbIwSt11char_traitsIwESaIwEE11_M_disjunctEPKw@GLIBCXX_3.4\n",
      "_ZNKSt14basic_ifstreamIwSt11char_traitsIwEE7is_openEv@@GLIBCXX_3.4.5\n",
      "GLIBCXX_3.4.21\n",
      "GLIBCXX_3.4.9\n",
      "_ZSt10adopt_lock@@GLIBCXX_3.4.11\n",
      "GLIBCXX_3.4.10\n",
      "GLIBCXX_3.4.16\n",
      "GLIBCXX_3.4.1\n",
      "_ZNSt19istreambuf_iteratorIcSt11char_traitsIcEEppEv@GLIBCXX_3.4\n",
      "GLIBCXX_3.4.28\n",
      "_ZNSs7_M_copyEPcPKcm@GLIBCXX_3.4\n",
      "GLIBCXX_3.4.25\n",
      "_ZNSt19istreambuf_iteratorIcSt11char_traitsIcEEppEv@@GLIBCXX_3.4.5\n",
      "_ZNSs7_M_moveEPcPKcm@@GLIBCXX_3.4.5\n",
      "_ZNKSt13basic_fstreamIwSt11char_traitsIwEE7is_openEv@GLIBCXX_3.4\n",
      "_ZNKSt13basic_fstreamIcSt11char_traitsIcEE7is_openEv@GLIBCXX_3.4\n",
      "_ZNSbIwSt11char_traitsIwESaIwEE4_Rep26_M_set_length_and_sharableEm@@GLIBCXX_3.4.5\n",
      "_ZNSs4_Rep26_M_set_length_and_sharableEm@GLIBCXX_3.4\n",
      "_ZSt10defer_lock@@GLIBCXX_3.4.11\n",
      "_ZN10__gnu_norm15_List_node_base4swapERS0_S1_@@GLIBCXX_3.4\n",
      "_ZNSs9_M_assignEPcmc@@GLIBCXX_3.4.5\n",
      "_ZNKSbIwSt11char_traitsIwESaIwEE15_M_check_lengthEmmPKc@@GLIBCXX_3.4.5\n",
      "_ZNKSt14basic_ifstreamIcSt11char_traitsIcEE7is_openEv@@GLIBCXX_3.4.5\n",
      "_ZNSbIwSt11char_traitsIwESaIwEE7_M_moveEPwPKwm@GLIBCXX_3.4\n",
      "GLIBCXX_3.4.24\n",
      "_ZNVSt9__atomic011atomic_flag12test_and_setESt12memory_order@@GLIBCXX_3.4.11\n",
      "GLIBCXX_3.4.20\n",
      "_ZNSt11char_traitsIwE2eqERKwS2_@@GLIBCXX_3.4.5\n",
      "GLIBCXX_3.4.12\n",
      "_ZNSi6ignoreEv@@GLIBCXX_3.4.5\n",
      "GLIBCXX_3.4.2\n",
      "_ZNSt11char_traitsIcE2eqERKcS2_@@GLIBCXX_3.4.5\n",
      "GLIBCXX_3.4.6\n",
      "GLIBCXX_3.4.15\n",
      "_ZNKSt13basic_fstreamIcSt11char_traitsIcEE7is_openEv@@GLIBCXX_3.4.5\n",
      "_ZNSs9_M_assignEPcmc@GLIBCXX_3.4\n",
      "GLIBCXX_3.4.19\n",
      "_ZNKSt14basic_ofstreamIwSt11char_traitsIwEE7is_openEv@GLIBCXX_3.4\n",
      "_ZNSt19istreambuf_iteratorIwSt11char_traitsIwEEppEv@GLIBCXX_3.4\n",
      "GLIBCXX_3.4.27\n",
      "_ZN10__gnu_norm15_List_node_base7reverseEv@@GLIBCXX_3.4\n",
      "_ZN10__gnu_norm15_List_node_base4hookEPS0_@@GLIBCXX_3.4\n",
      "_ZNSt11char_traitsIwE2eqERKwS2_@GLIBCXX_3.4\n",
      "_ZNSbIwSt11char_traitsIwESaIwEE7_M_copyEPwPKwm@GLIBCXX_3.4\n",
      "_ZNSbIwSt11char_traitsIwESaIwEE7_M_copyEPwPKwm@@GLIBCXX_3.4.5\n",
      "GLIBCXX_3.4.23\n",
      "GLIBCXX_3.4.3\n",
      "GLIBCXX_3.4.7\n",
      "_ZNSi6ignoreEl@@GLIBCXX_3.4.5\n",
      "_ZNKSbIwSt11char_traitsIwESaIwEE11_M_disjunctEPKw@@GLIBCXX_3.4.5\n",
      "_ZNSt13basic_istreamIwSt11char_traitsIwEE6ignoreEv@GLIBCXX_3.4\n",
      "_ZNKSt13basic_fstreamIwSt11char_traitsIwEE7is_openEv@@GLIBCXX_3.4.5\n",
      "_ZNSbIwSt11char_traitsIwESaIwEE7_M_moveEPwPKwm@@GLIBCXX_3.4.5\n",
      "GLIBCXX_3.4.18\n",
      "_ZNSbIwSt11char_traitsIwESaIwEE4_Rep26_M_set_length_and_sharableEm@GLIBCXX_3.4\n",
      "_ZNSt13basic_istreamIwSt11char_traitsIwEE6ignoreEl@@GLIBCXX_3.4.5\n",
      "_ZSt15future_category@@GLIBCXX_3.4.14\n",
      "_ZNSi6ignoreEl@GLIBCXX_3.4\n",
      "GLIBCXX_3.4.29\n",
      "_ZNSt11char_traitsIcE2eqERKcS2_@GLIBCXX_3.4\n",
      "_ZNKSs15_M_check_lengthEmmPKc@GLIBCXX_3.4\n",
      "_ZN10__gnu_norm15_List_node_base8transferEPS0_S1_@@GLIBCXX_3.4\n",
      "_ZNSbIwSt11char_traitsIwESaIwEE9_M_assignEPwmw@GLIBCXX_3.4\n",
      "_ZNVSt9__atomic011atomic_flag5clearESt12memory_order@@GLIBCXX_3.4.11\n",
      "_ZNKSt14basic_ofstreamIcSt11char_traitsIcEE7is_openEv@@GLIBCXX_3.4.5\n",
      "_ZNKSt14basic_ofstreamIcSt11char_traitsIcEE7is_openEv@GLIBCXX_3.4\n",
      "_ZNSs7_M_moveEPcPKcm@GLIBCXX_3.4\n",
      "_ZNSt13basic_istreamIwSt11char_traitsIwEE6ignoreEl@GLIBCXX_3.4\n",
      "_ZNSbIwSt11char_traitsIwESaIwEE9_M_assignEPwmw@@GLIBCXX_3.4.5\n",
      "_ZNKSbIwSt11char_traitsIwESaIwEE15_M_check_lengthEmmPKc@GLIBCXX_3.4\n",
      "_ZNKSs11_M_disjunctEPKc@@GLIBCXX_3.4.5\n",
      "_ZN10__gnu_norm15_List_node_base6unhookEv@@GLIBCXX_3.4\n",
      "GLIBCXX_3.4.22\n",
      "_ZNSt19istreambuf_iteratorIwSt11char_traitsIwEEppEv@@GLIBCXX_3.4.5\n",
      "_ZNSi6ignoreEv@GLIBCXX_3.4\n",
      "_ZNSs7_M_copyEPcPKcm@@GLIBCXX_3.4.5\n",
      "GLIBCXX_3.4.8\n",
      "GLIBCXX_3.4.13\n",
      "_ZSt11try_to_lock@@GLIBCXX_3.4.11\n",
      "_ZNKSt14basic_ofstreamIwSt11char_traitsIwEE7is_openEv@@GLIBCXX_3.4.5\n",
      "GLIBCXX_3.4.17\n",
      "GLIBCXX_3.4.4\n",
      "_ZNKSs15_M_check_lengthEmmPKc@@GLIBCXX_3.4.5\n",
      "_ZNKSt14basic_ifstreamIwSt11char_traitsIwEE7is_openEv@GLIBCXX_3.4\n",
      "_ZNSs4_Rep26_M_set_length_and_sharableEm@@GLIBCXX_3.4.5\n",
      "GLIBCXX_3.4.26\n",
      "_ZNKSs11_M_disjunctEPKc@GLIBCXX_3.4\n"
     ]
    }
   ],
   "source": [
    "!strings /opt/anaconda3/lib/libstdc++.so.6 | grep GLIBCXX"
   ]
  },
  {
   "cell_type": "code",
   "execution_count": null,
   "id": "2a61220b-4665-47fd-9b42-4693c2feb516",
   "metadata": {},
   "outputs": [],
   "source": []
  }
 ],
 "metadata": {
  "kernelspec": {
   "display_name": "Python (myenv)",
   "language": "python",
   "name": "myenv"
  },
  "language_info": {
   "codemirror_mode": {
    "name": "ipython",
    "version": 3
   },
   "file_extension": ".py",
   "mimetype": "text/x-python",
   "name": "python",
   "nbconvert_exporter": "python",
   "pygments_lexer": "ipython3",
   "version": "3.11.9"
  }
 },
 "nbformat": 4,
 "nbformat_minor": 5
}
