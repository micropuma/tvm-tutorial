{
 "cells": [
  {
   "cell_type": "code",
   "execution_count": 9,
   "id": "b7eec85f-cf94-4856-ba4b-4c6146defdf3",
   "metadata": {},
   "outputs": [
    {
     "name": "stdout",
     "output_type": "stream",
     "text": [
      "Tue Dec 17 20:02:57 2024       \n",
      "+-----------------------------------------------------------------------------------------+\n",
      "| NVIDIA-SMI 565.57.01              Driver Version: 565.57.01      CUDA Version: 12.7     |\n",
      "|-----------------------------------------+------------------------+----------------------+\n",
      "| GPU  Name                 Persistence-M | Bus-Id          Disp.A | Volatile Uncorr. ECC |\n",
      "| Fan  Temp   Perf          Pwr:Usage/Cap |           Memory-Usage | GPU-Util  Compute M. |\n",
      "|                                         |                        |               MIG M. |\n",
      "|=========================================+========================+======================|\n",
      "|   0  NVIDIA GeForce RTX 3090        Off |   00000000:31:00.0 Off |                  N/A |\n",
      "| 76%   80C    P0            178W /  370W |   13673MiB /  24576MiB |      0%      Default |\n",
      "|                                         |                        |                  N/A |\n",
      "+-----------------------------------------+------------------------+----------------------+\n",
      "|   1  NVIDIA GeForce RTX 3090        Off |   00000000:4B:00.0 Off |                  N/A |\n",
      "|  0%   50C    P8             22W /  370W |       4MiB /  24576MiB |      0%      Default |\n",
      "|                                         |                        |                  N/A |\n",
      "+-----------------------------------------+------------------------+----------------------+\n",
      "|   2  NVIDIA GeForce RTX 3090        Off |   00000000:B1:00.0 Off |                  N/A |\n",
      "| 35%   43C    P8             31W /  370W |       4MiB /  24576MiB |      0%      Default |\n",
      "|                                         |                        |                  N/A |\n",
      "+-----------------------------------------+------------------------+----------------------+\n",
      "|   3  NVIDIA GeForce RTX 3090        Off |   00000000:CA:00.0 Off |                  N/A |\n",
      "| 36%   49C    P8             23W /  370W |     654MiB /  24576MiB |      0%      Default |\n",
      "|                                         |                        |                  N/A |\n",
      "+-----------------------------------------+------------------------+----------------------+\n",
      "                                                                                         \n",
      "+-----------------------------------------------------------------------------------------+\n",
      "| Processes:                                                                              |\n",
      "|  GPU   GI   CI        PID   Type   Process name                              GPU Memory |\n",
      "|        ID   ID                                                               Usage      |\n",
      "|=========================================================================================|\n",
      "|    0   N/A  N/A   1100528      C   python                                       3092MiB |\n",
      "|    0   N/A  N/A   2949780      C   python3                                     10136MiB |\n",
      "|    0   N/A  N/A   3257155      C   python                                        298MiB |\n",
      "|    3   N/A  N/A   3257155      C   python                                        644MiB |\n",
      "+-----------------------------------------------------------------------------------------+\n"
     ]
    }
   ],
   "source": [
    "!nvidia-smi"
   ]
  },
  {
   "cell_type": "code",
   "execution_count": 17,
   "id": "83068e9b-a1b7-40e9-9404-967b0c335383",
   "metadata": {},
   "outputs": [
    {
     "name": "stdout",
     "output_type": "stream",
     "text": [
      "Requirement already satisfied: pip in /mnt/home/douliyang/tvm-workspace/myenv/lib/python3.11/site-packages (24.3.1)\n"
     ]
    }
   ],
   "source": [
    "!python -m pip install --upgrade pip"
   ]
  },
  {
   "cell_type": "code",
   "execution_count": 3,
   "id": "c782129d-79ff-451d-b7b3-fa9b3781623e",
   "metadata": {},
   "outputs": [
    {
     "name": "stdout",
     "output_type": "stream",
     "text": [
      "Requirement already satisfied: apache-tvm in /mnt/home/douliyang/tvm-workspace/myenv/lib/python3.11/site-packages (0.14.dev273)\n",
      "Requirement already satisfied: attrs in /mnt/home/douliyang/tvm-workspace/myenv/lib/python3.11/site-packages (from apache-tvm) (24.3.0)\n",
      "Requirement already satisfied: cloudpickle in /mnt/home/douliyang/tvm-workspace/myenv/lib/python3.11/site-packages (from apache-tvm) (3.1.0)\n",
      "Requirement already satisfied: decorator in /mnt/home/douliyang/tvm-workspace/myenv/lib/python3.11/site-packages (from apache-tvm) (5.1.1)\n",
      "Requirement already satisfied: ml-dtypes in /mnt/home/douliyang/tvm-workspace/myenv/lib/python3.11/site-packages (from apache-tvm) (0.5.0)\n",
      "Requirement already satisfied: numpy in /mnt/home/douliyang/tvm-workspace/myenv/lib/python3.11/site-packages (from apache-tvm) (1.23.5)\n",
      "Requirement already satisfied: psutil in /mnt/home/douliyang/tvm-workspace/myenv/lib/python3.11/site-packages (from apache-tvm) (6.1.0)\n",
      "Requirement already satisfied: scipy in /mnt/home/douliyang/tvm-workspace/myenv/lib/python3.11/site-packages (from apache-tvm) (1.14.1)\n",
      "Requirement already satisfied: tornado in /mnt/home/douliyang/tvm-workspace/myenv/lib/python3.11/site-packages (from apache-tvm) (6.4.2)\n",
      "Requirement already satisfied: typing-extensions in /mnt/home/douliyang/tvm-workspace/myenv/lib/python3.11/site-packages (from apache-tvm) (4.12.2)\n"
     ]
    }
   ],
   "source": [
    "!pip install apache-tvm --pre"
   ]
  },
  {
   "cell_type": "code",
   "execution_count": 5,
   "id": "6a6f016f-fc89-47ca-aa58-09f9d2240ebf",
   "metadata": {},
   "outputs": [
    {
     "ename": "ImportError",
     "evalue": "cannot import name 'relax' from 'tvm' (/mnt/home/douliyang/tvm-workspace/myenv/lib/python3.11/site-packages/tvm/__init__.py)",
     "output_type": "error",
     "traceback": [
      "\u001b[0;31m---------------------------------------------------------------------------\u001b[0m",
      "\u001b[0;31mImportError\u001b[0m                               Traceback (most recent call last)",
      "Cell \u001b[0;32mIn[5], line 2\u001b[0m\n\u001b[1;32m      1\u001b[0m \u001b[38;5;28;01mimport\u001b[39;00m \u001b[38;5;21;01mtvm\u001b[39;00m\n\u001b[0;32m----> 2\u001b[0m \u001b[38;5;28;01mfrom\u001b[39;00m \u001b[38;5;21;01mtvm\u001b[39;00m \u001b[38;5;28;01mimport\u001b[39;00m relax\n\u001b[1;32m      3\u001b[0m \u001b[38;5;28;01mfrom\u001b[39;00m \u001b[38;5;21;01mtvm\u001b[39;00m\u001b[38;5;21;01m.\u001b[39;00m\u001b[38;5;21;01mrelax\u001b[39;00m\u001b[38;5;21;01m.\u001b[39;00m\u001b[38;5;21;01mfrontend\u001b[39;00m \u001b[38;5;28;01mimport\u001b[39;00m nn\n",
      "\u001b[0;31mImportError\u001b[0m: cannot import name 'relax' from 'tvm' (/mnt/home/douliyang/tvm-workspace/myenv/lib/python3.11/site-packages/tvm/__init__.py)"
     ]
    }
   ],
   "source": [
    "import tvm\n",
    "from tvm import relax\n",
    "from tvm.relax.frontend import nn"
   ]
  },
  {
   "cell_type": "code",
   "execution_count": null,
   "id": "ed1a93a7-d977-49ed-933b-83b479fcab07",
   "metadata": {},
   "outputs": [],
   "source": []
  }
 ],
 "metadata": {
  "kernelspec": {
   "display_name": "myenv",
   "language": "python",
   "name": "myenv"
  },
  "language_info": {
   "codemirror_mode": {
    "name": "ipython",
    "version": 3
   },
   "file_extension": ".py",
   "mimetype": "text/x-python",
   "name": "python",
   "nbconvert_exporter": "python",
   "pygments_lexer": "ipython3",
   "version": "3.11.9"
  }
 },
 "nbformat": 4,
 "nbformat_minor": 5
}
